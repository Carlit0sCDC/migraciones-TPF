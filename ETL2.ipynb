{
 "cells": [
  {
   "cell_type": "code",
   "execution_count": 264,
   "metadata": {},
   "outputs": [],
   "source": [
    "#Importamos las librerías necesarias\n",
    "import pandas as pd\n",
    "import numpy as np"
   ]
  },
  {
   "cell_type": "markdown",
   "metadata": {},
   "source": [
    "Limpieza de datos del dataset \"tasa_desempleo_Canada\""
   ]
  },
  {
   "cell_type": "code",
   "execution_count": 265,
   "metadata": {},
   "outputs": [],
   "source": [
    "#Cargamos el dataset\n",
    "desempleo = pd.read_csv(\"data/tasa_desemplo_Canada.csv\",  sep=\",\", skiprows=8, index_col=0)"
   ]
  },
  {
   "cell_type": "code",
   "execution_count": 266,
   "metadata": {},
   "outputs": [],
   "source": [
    "# Lee el archivo CSV sin establecer un índice personalizado\n",
    "desempleo = pd.read_csv(\"data/tasa_desemplo_Canada.csv\", sep=\",\", skiprows=8, header=None)\n",
    "\n",
    "# Establece la primera fila como nombres de columna y elimina la fila original\n",
    "desempleo.columns = desempleo.iloc[0]\n",
    "desempleo = desempleo[1:]\n",
    "\n",
    "# Restablece el índice a cero\n",
    "desempleo.reset_index(drop=True, inplace=True)\n"
   ]
  },
  {
   "cell_type": "code",
   "execution_count": 297,
   "metadata": {},
   "outputs": [],
   "source": [
    "# Rellena los valores NaN en la columna 'Geography' usando forward fill (ffill)\n",
    "desempleo['Geography'].fillna(method='ffill', inplace=True)\n",
    "\n"
   ]
  },
  {
   "cell_type": "code",
   "execution_count": 298,
   "metadata": {},
   "outputs": [],
   "source": [
    "# Elimina el número \"6\" de la columna 'Geography'\n",
    "desempleo['Geography'] = desempleo['Geography'].str.replace('6', '').str.strip()"
   ]
  },
  {
   "cell_type": "code",
   "execution_count": 270,
   "metadata": {},
   "outputs": [
    {
     "data": {
      "text/html": [
       "<div>\n",
       "<style scoped>\n",
       "    .dataframe tbody tr th:only-of-type {\n",
       "        vertical-align: middle;\n",
       "    }\n",
       "\n",
       "    .dataframe tbody tr th {\n",
       "        vertical-align: top;\n",
       "    }\n",
       "\n",
       "    .dataframe thead th {\n",
       "        text-align: right;\n",
       "    }\n",
       "</style>\n",
       "<table border=\"1\" class=\"dataframe\">\n",
       "  <thead>\n",
       "    <tr style=\"text-align: right;\">\n",
       "      <th></th>\n",
       "      <th>Geography</th>\n",
       "      <th>Educational attainment</th>\n",
       "      <th>2018</th>\n",
       "      <th>Symbol</th>\n",
       "      <th>2019</th>\n",
       "      <th>Symbol</th>\n",
       "      <th>2020</th>\n",
       "      <th>Symbol</th>\n",
       "      <th>2021</th>\n",
       "      <th>Symbol</th>\n",
       "      <th>2022</th>\n",
       "      <th>Symbol</th>\n",
       "    </tr>\n",
       "  </thead>\n",
       "  <tbody>\n",
       "    <tr>\n",
       "      <th>0</th>\n",
       "      <td>Canada</td>\n",
       "      <td>All levels of education</td>\n",
       "      <td>6.2</td>\n",
       "      <td>A</td>\n",
       "      <td>6.3</td>\n",
       "      <td>A</td>\n",
       "      <td>10.7</td>\n",
       "      <td>A</td>\n",
       "      <td>8.0</td>\n",
       "      <td>A</td>\n",
       "      <td>5.6</td>\n",
       "      <td>A</td>\n",
       "    </tr>\n",
       "    <tr>\n",
       "      <th>1</th>\n",
       "      <td>Canada</td>\n",
       "      <td>Less than high school 7</td>\n",
       "      <td>11.2</td>\n",
       "      <td>B</td>\n",
       "      <td>12.3</td>\n",
       "      <td>B</td>\n",
       "      <td>17.7</td>\n",
       "      <td>B</td>\n",
       "      <td>14.6</td>\n",
       "      <td>B</td>\n",
       "      <td>12.3</td>\n",
       "      <td>B</td>\n",
       "    </tr>\n",
       "    <tr>\n",
       "      <th>2</th>\n",
       "      <td>Canada</td>\n",
       "      <td>High school 8</td>\n",
       "      <td>8.0</td>\n",
       "      <td>B</td>\n",
       "      <td>8.7</td>\n",
       "      <td>B</td>\n",
       "      <td>14.8</td>\n",
       "      <td>A</td>\n",
       "      <td>12.0</td>\n",
       "      <td>B</td>\n",
       "      <td>7.9</td>\n",
       "      <td>B</td>\n",
       "    </tr>\n",
       "    <tr>\n",
       "      <th>3</th>\n",
       "      <td>Canada</td>\n",
       "      <td>College or trade 9</td>\n",
       "      <td>5.3</td>\n",
       "      <td>B</td>\n",
       "      <td>5.2</td>\n",
       "      <td>B</td>\n",
       "      <td>10.0</td>\n",
       "      <td>A</td>\n",
       "      <td>7.3</td>\n",
       "      <td>B</td>\n",
       "      <td>4.4</td>\n",
       "      <td>B</td>\n",
       "    </tr>\n",
       "    <tr>\n",
       "      <th>4</th>\n",
       "      <td>Canada</td>\n",
       "      <td>University 10</td>\n",
       "      <td>5.4</td>\n",
       "      <td>B</td>\n",
       "      <td>5.2</td>\n",
       "      <td>B</td>\n",
       "      <td>8.5</td>\n",
       "      <td>B</td>\n",
       "      <td>6.1</td>\n",
       "      <td>B</td>\n",
       "      <td>4.9</td>\n",
       "      <td>B</td>\n",
       "    </tr>\n",
       "    <tr>\n",
       "      <th>5</th>\n",
       "      <td>Newfoundland and Labrador</td>\n",
       "      <td>All levels of education</td>\n",
       "      <td>14.2</td>\n",
       "      <td>B</td>\n",
       "      <td>14.3</td>\n",
       "      <td>B</td>\n",
       "      <td>14.0</td>\n",
       "      <td>B</td>\n",
       "      <td>11.9</td>\n",
       "      <td>B</td>\n",
       "      <td>8.3</td>\n",
       "      <td>B</td>\n",
       "    </tr>\n",
       "    <tr>\n",
       "      <th>6</th>\n",
       "      <td>Newfoundland and Labrador</td>\n",
       "      <td>Less than high school 7</td>\n",
       "      <td>NaN</td>\n",
       "      <td>x</td>\n",
       "      <td>NaN</td>\n",
       "      <td>x</td>\n",
       "      <td>NaN</td>\n",
       "      <td>x</td>\n",
       "      <td>NaN</td>\n",
       "      <td>x</td>\n",
       "      <td>NaN</td>\n",
       "      <td>x</td>\n",
       "    </tr>\n",
       "    <tr>\n",
       "      <th>7</th>\n",
       "      <td>Newfoundland and Labrador</td>\n",
       "      <td>High school 8</td>\n",
       "      <td>14.8</td>\n",
       "      <td>C</td>\n",
       "      <td>18.0</td>\n",
       "      <td>C</td>\n",
       "      <td>17.1</td>\n",
       "      <td>C</td>\n",
       "      <td>20.4</td>\n",
       "      <td>C</td>\n",
       "      <td>11.7</td>\n",
       "      <td>C</td>\n",
       "    </tr>\n",
       "    <tr>\n",
       "      <th>8</th>\n",
       "      <td>Newfoundland and Labrador</td>\n",
       "      <td>College or trade 9</td>\n",
       "      <td>17.7</td>\n",
       "      <td>B</td>\n",
       "      <td>15.2</td>\n",
       "      <td>C</td>\n",
       "      <td>15.4</td>\n",
       "      <td>B</td>\n",
       "      <td>10.1</td>\n",
       "      <td>C</td>\n",
       "      <td>7.6</td>\n",
       "      <td>C</td>\n",
       "    </tr>\n",
       "    <tr>\n",
       "      <th>9</th>\n",
       "      <td>Newfoundland and Labrador</td>\n",
       "      <td>University 10</td>\n",
       "      <td>NaN</td>\n",
       "      <td>x</td>\n",
       "      <td>9.5</td>\n",
       "      <td>C</td>\n",
       "      <td>NaN</td>\n",
       "      <td>x</td>\n",
       "      <td>NaN</td>\n",
       "      <td>x</td>\n",
       "      <td>NaN</td>\n",
       "      <td>x</td>\n",
       "    </tr>\n",
       "  </tbody>\n",
       "</table>\n",
       "</div>"
      ],
      "text/plain": [
       "                   Geography   Educational attainment  2018 Symbol  2019  \\\n",
       "0                     Canada  All levels of education   6.2      A   6.3   \n",
       "1                     Canada  Less than high school 7  11.2      B  12.3   \n",
       "2                     Canada            High school 8   8.0      B   8.7   \n",
       "3                     Canada       College or trade 9   5.3      B   5.2   \n",
       "4                     Canada            University 10   5.4      B   5.2   \n",
       "5  Newfoundland and Labrador  All levels of education  14.2      B  14.3   \n",
       "6  Newfoundland and Labrador  Less than high school 7   NaN      x   NaN   \n",
       "7  Newfoundland and Labrador            High school 8  14.8      C  18.0   \n",
       "8  Newfoundland and Labrador       College or trade 9  17.7      B  15.2   \n",
       "9  Newfoundland and Labrador            University 10   NaN      x   9.5   \n",
       "\n",
       "  Symbol  2020 Symbol  2021 Symbol  2022 Symbol  \n",
       "0      A  10.7      A   8.0      A   5.6      A  \n",
       "1      B  17.7      B  14.6      B  12.3      B  \n",
       "2      B  14.8      A  12.0      B   7.9      B  \n",
       "3      B  10.0      A   7.3      B   4.4      B  \n",
       "4      B   8.5      B   6.1      B   4.9      B  \n",
       "5      B  14.0      B  11.9      B   8.3      B  \n",
       "6      x   NaN      x   NaN      x   NaN      x  \n",
       "7      C  17.1      C  20.4      C  11.7      C  \n",
       "8      C  15.4      B  10.1      C   7.6      C  \n",
       "9      C   NaN      x   NaN      x   NaN      x  "
      ]
     },
     "execution_count": 270,
     "metadata": {},
     "output_type": "execute_result"
    }
   ],
   "source": [
    "# Función para convertir nombres a enteros si son numéricos\n",
    "def convertir_a_entero(nombre):\n",
    "    try:\n",
    "        return str(int(float(nombre)))\n",
    "    except:\n",
    "        return nombre\n",
    "\n",
    "desempleo.columns = [convertir_a_entero(nombre) for nombre in desempleo.columns]\n",
    "\n",
    "# Imprime el DataFrame actualizado\n",
    "desempleo.head(10)"
   ]
  },
  {
   "cell_type": "code",
   "execution_count": 300,
   "metadata": {},
   "outputs": [],
   "source": [
    "# Elimina los números al final de los valores en la columna 'Educational attainment'\n",
    "desempleo['Educational attainment'] = desempleo['Educational attainment'].str.replace(r'\\d+$', '', regex=True)\n"
   ]
  },
  {
   "cell_type": "code",
   "execution_count": 301,
   "metadata": {},
   "outputs": [],
   "source": [
    "# Eliminar todas las filas desde la fila 55 hacia abajo\n",
    "desempleo = desempleo.iloc[:55]"
   ]
  },
  {
   "cell_type": "code",
   "execution_count": 275,
   "metadata": {},
   "outputs": [],
   "source": [
    "# Reemplazar NaN por 0 en las columnas numéricas\n",
    "columnas_numericas = desempleo.select_dtypes(include=[np.number])\n",
    "desempleo[columnas_numericas.columns] = columnas_numericas.fillna(0)"
   ]
  },
  {
   "cell_type": "code",
   "execution_count": 294,
   "metadata": {},
   "outputs": [],
   "source": [
    "desempleo = desempleo.drop(columns=[\"Symbol\"])"
   ]
  },
  {
   "cell_type": "code",
   "execution_count": 295,
   "metadata": {},
   "outputs": [
    {
     "name": "stdout",
     "output_type": "stream",
     "text": [
      "<class 'pandas.core.frame.DataFrame'>\n",
      "RangeIndex: 55 entries, 0 to 54\n",
      "Data columns (total 7 columns):\n",
      " #   Column                  Non-Null Count  Dtype  \n",
      "---  ------                  --------------  -----  \n",
      " 0   Geography               55 non-null     object \n",
      " 1   Educational attainment  55 non-null     object \n",
      " 2   2018                    55 non-null     float64\n",
      " 3   2019                    55 non-null     float64\n",
      " 4   2020                    55 non-null     float64\n",
      " 5   2021                    55 non-null     float64\n",
      " 6   2022                    55 non-null     float64\n",
      "dtypes: float64(5), object(2)\n",
      "memory usage: 3.1+ KB\n"
     ]
    }
   ],
   "source": [
    "desempleo.info()"
   ]
  },
  {
   "cell_type": "markdown",
   "metadata": {},
   "source": [
    "    Limpieza de datos del dataset \"after_graduate\""
   ]
  },
  {
   "cell_type": "code",
   "execution_count": 279,
   "metadata": {},
   "outputs": [
    {
     "data": {
      "text/html": [
       "<div>\n",
       "<style scoped>\n",
       "    .dataframe tbody tr th:only-of-type {\n",
       "        vertical-align: middle;\n",
       "    }\n",
       "\n",
       "    .dataframe tbody tr th {\n",
       "        vertical-align: top;\n",
       "    }\n",
       "\n",
       "    .dataframe thead th {\n",
       "        text-align: right;\n",
       "    }\n",
       "</style>\n",
       "<table border=\"1\" class=\"dataframe\">\n",
       "  <thead>\n",
       "    <tr style=\"text-align: right;\">\n",
       "      <th></th>\n",
       "      <th>Educational qualification 10</th>\n",
       "      <th>Field of study</th>\n",
       "      <th>2019</th>\n",
       "      <th>2021</th>\n",
       "    </tr>\n",
       "  </thead>\n",
       "  <tbody>\n",
       "    <tr>\n",
       "      <th>0</th>\n",
       "      <td>Career, technical or professional training cer...</td>\n",
       "      <td>Total, field of study</td>\n",
       "      <td>35,580</td>\n",
       "      <td>36,800</td>\n",
       "    </tr>\n",
       "    <tr>\n",
       "      <th>1</th>\n",
       "      <td>NaN</td>\n",
       "      <td>Education</td>\n",
       "      <td>1,040</td>\n",
       "      <td>31,100</td>\n",
       "    </tr>\n",
       "    <tr>\n",
       "      <th>2</th>\n",
       "      <td>NaN</td>\n",
       "      <td>Visual and performing arts, and communications...</td>\n",
       "      <td>1,220</td>\n",
       "      <td>22,700</td>\n",
       "    </tr>\n",
       "    <tr>\n",
       "      <th>3</th>\n",
       "      <td>NaN</td>\n",
       "      <td>Humanities</td>\n",
       "      <td>1,760</td>\n",
       "      <td>24,400</td>\n",
       "    </tr>\n",
       "    <tr>\n",
       "      <th>4</th>\n",
       "      <td>NaN</td>\n",
       "      <td>Social and behavioural sciences and law</td>\n",
       "      <td>1,970</td>\n",
       "      <td>37,600</td>\n",
       "    </tr>\n",
       "    <tr>\n",
       "      <th>...</th>\n",
       "      <td>...</td>\n",
       "      <td>...</td>\n",
       "      <td>...</td>\n",
       "      <td>...</td>\n",
       "    </tr>\n",
       "    <tr>\n",
       "      <th>73</th>\n",
       "      <td>NaN</td>\n",
       "      <td>Architecture, engineering, and related technol...</td>\n",
       "      <td>1,330</td>\n",
       "      <td>78,900</td>\n",
       "    </tr>\n",
       "    <tr>\n",
       "      <th>74</th>\n",
       "      <td>NaN</td>\n",
       "      <td>Agriculture, natural resources and conservation</td>\n",
       "      <td>210</td>\n",
       "      <td>61,700</td>\n",
       "    </tr>\n",
       "    <tr>\n",
       "      <th>75</th>\n",
       "      <td>NaN</td>\n",
       "      <td>Health and related fields</td>\n",
       "      <td>620</td>\n",
       "      <td>78,000</td>\n",
       "    </tr>\n",
       "    <tr>\n",
       "      <th>76</th>\n",
       "      <td>NaN</td>\n",
       "      <td>Personal, protective and transportation services</td>\n",
       "      <td>0</td>\n",
       "      <td>NaN</td>\n",
       "    </tr>\n",
       "    <tr>\n",
       "      <th>77</th>\n",
       "      <td>NaN</td>\n",
       "      <td>Other instructional programs</td>\n",
       "      <td>80</td>\n",
       "      <td>74,000</td>\n",
       "    </tr>\n",
       "  </tbody>\n",
       "</table>\n",
       "<p>78 rows × 4 columns</p>\n",
       "</div>"
      ],
      "text/plain": [
       "                         Educational qualification 10  \\\n",
       "0   Career, technical or professional training cer...   \n",
       "1                                                 NaN   \n",
       "2                                                 NaN   \n",
       "3                                                 NaN   \n",
       "4                                                 NaN   \n",
       "..                                                ...   \n",
       "73                                                NaN   \n",
       "74                                                NaN   \n",
       "75                                                NaN   \n",
       "76                                                NaN   \n",
       "77                                                NaN   \n",
       "\n",
       "                                       Field of study    2019    2021  \n",
       "0                               Total, field of study  35,580  36,800  \n",
       "1                                           Education   1,040  31,100  \n",
       "2   Visual and performing arts, and communications...   1,220  22,700  \n",
       "3                                          Humanities   1,760  24,400  \n",
       "4             Social and behavioural sciences and law   1,970  37,600  \n",
       "..                                                ...     ...     ...  \n",
       "73  Architecture, engineering, and related technol...   1,330  78,900  \n",
       "74    Agriculture, natural resources and conservation     210  61,700  \n",
       "75                          Health and related fields     620  78,000  \n",
       "76   Personal, protective and transportation services       0     NaN  \n",
       "77                       Other instructional programs      80  74,000  \n",
       "\n",
       "[78 rows x 4 columns]"
      ]
     },
     "execution_count": 279,
     "metadata": {},
     "output_type": "execute_result"
    }
   ],
   "source": [
    "#Cargamos el dataset\n",
    "\n",
    "# Ruta del archivo CSV\n",
    "archivo_csv = \"data/after_graduate.csv\"\n",
    "\n",
    "# Cargar el archivo CSV en un DataFrame\n",
    "after_graduate = pd.read_csv(archivo_csv, sep=\";\")  # Usar \"\\t\" como separador si los datos están tabulados\n",
    "\n",
    "# Imprimir el DataFrame\n",
    "after_graduate"
   ]
  },
  {
   "cell_type": "code",
   "execution_count": 303,
   "metadata": {},
   "outputs": [],
   "source": [
    "# Cambiar el nombre de la columna \"2019\" a \"Number_graduates_2019\"\n",
    "after_graduate= after_graduate.rename(columns={\"2019\": \"Número_graduados_2019\"})\n",
    "\n",
    "# Cambiar el nombre de la columna \"2021\" a \"Ingreso_medio_por_empleo\"\n",
    "after_graduate = after_graduate.rename(columns={\"2021\": \"Ingreso_medio_por_empleo\"})\n",
    "\n",
    "# Cambiar el nombre de la columna \"Educational qualification 10\" a \"Nivel_educativo\"\n",
    "after_graduate = after_graduate.rename(columns={\"Educational qualification 10\": \"Nivel_educativo\"})\n",
    "\n",
    "# Cambiar el nombre de la columna \"Field of study\"\" a \"Campo de estudio\"\n",
    "after_graduate = after_graduate.rename(columns={\"Field of study\": \"Campo de estudio\"})\n"
   ]
  },
  {
   "cell_type": "code",
   "execution_count": 282,
   "metadata": {},
   "outputs": [],
   "source": [
    "# Rellena los valores NaN en la columna 'Nivel_educativo' usando forward fill (ffill)\n",
    "after_graduate['Nivel_educativo'].fillna(method='ffill', inplace=True)"
   ]
  },
  {
   "cell_type": "code",
   "execution_count": 284,
   "metadata": {},
   "outputs": [
    {
     "name": "stdout",
     "output_type": "stream",
     "text": [
      "<class 'pandas.core.frame.DataFrame'>\n",
      "RangeIndex: 78 entries, 0 to 77\n",
      "Data columns (total 4 columns):\n",
      " #   Column                    Non-Null Count  Dtype \n",
      "---  ------                    --------------  ----- \n",
      " 0   Nivel_educativo           78 non-null     object\n",
      " 1   Campo de estudio          78 non-null     object\n",
      " 2   Número_graduados_2019     67 non-null     object\n",
      " 3   Ingreso_medio_por_empleo  65 non-null     object\n",
      "dtypes: object(4)\n",
      "memory usage: 2.6+ KB\n"
     ]
    }
   ],
   "source": [
    "after_graduate.info()"
   ]
  },
  {
   "cell_type": "code",
   "execution_count": 285,
   "metadata": {},
   "outputs": [],
   "source": [
    "# Eliminar todas las filas que contienen valores nulos\n",
    "after_graduate = after_graduate.dropna()"
   ]
  },
  {
   "cell_type": "code",
   "execution_count": 286,
   "metadata": {},
   "outputs": [
    {
     "name": "stdout",
     "output_type": "stream",
     "text": [
      "<class 'pandas.core.frame.DataFrame'>\n",
      "Index: 65 entries, 0 to 77\n",
      "Data columns (total 4 columns):\n",
      " #   Column                    Non-Null Count  Dtype \n",
      "---  ------                    --------------  ----- \n",
      " 0   Nivel_educativo           65 non-null     object\n",
      " 1   Campo de estudio          65 non-null     object\n",
      " 2   Número_graduados_2019     65 non-null     object\n",
      " 3   Ingreso_medio_por_empleo  65 non-null     object\n",
      "dtypes: object(4)\n",
      "memory usage: 2.5+ KB\n"
     ]
    }
   ],
   "source": [
    "after_graduate.info()"
   ]
  },
  {
   "cell_type": "code",
   "execution_count": 288,
   "metadata": {},
   "outputs": [],
   "source": [
    "# Eliminar las comas y convertir la columna \"Número_graduados_2019\" a entero\n",
    "after_graduate['Número_graduados_2019'] = after_graduate['Número_graduados_2019'].str.replace(',', '', regex=True).astype(int)\n",
    "\n",
    "# Eliminar las comas y convertir la columna \"Ingreso_medio_por_empleo\" a entero\n",
    "after_graduate['Ingreso_medio_por_empleo'] = after_graduate['Ingreso_medio_por_empleo'].str.replace(',', '', regex=True).astype(int)"
   ]
  },
  {
   "cell_type": "code",
   "execution_count": 289,
   "metadata": {},
   "outputs": [
    {
     "data": {
      "text/plain": [
       "Nivel_educativo\n",
       "Career, technical or professional training diploma        13\n",
       "Undergraduate degree                                      13\n",
       "Master's degree                                           13\n",
       "Doctoral degree                                           12\n",
       "Career, technical or professional training certificate    11\n",
       "Professional degree                                        3\n",
       "Name: count, dtype: int64"
      ]
     },
     "execution_count": 289,
     "metadata": {},
     "output_type": "execute_result"
    }
   ],
   "source": [
    "after_graduate[\"Nivel_educativo\"].value_counts()"
   ]
  },
  {
   "cell_type": "code",
   "execution_count": 290,
   "metadata": {},
   "outputs": [
    {
     "name": "stdout",
     "output_type": "stream",
     "text": [
      "<class 'pandas.core.frame.DataFrame'>\n",
      "Index: 65 entries, 0 to 77\n",
      "Data columns (total 4 columns):\n",
      " #   Column                    Non-Null Count  Dtype \n",
      "---  ------                    --------------  ----- \n",
      " 0   Nivel_educativo           65 non-null     object\n",
      " 1   Campo de estudio          65 non-null     object\n",
      " 2   Número_graduados_2019     65 non-null     int32 \n",
      " 3   Ingreso_medio_por_empleo  65 non-null     int32 \n",
      "dtypes: int32(2), object(2)\n",
      "memory usage: 2.0+ KB\n"
     ]
    }
   ],
   "source": [
    "after_graduate.info()"
   ]
  },
  {
   "cell_type": "code",
   "execution_count": 291,
   "metadata": {},
   "outputs": [
    {
     "data": {
      "text/html": [
       "<div>\n",
       "<style scoped>\n",
       "    .dataframe tbody tr th:only-of-type {\n",
       "        vertical-align: middle;\n",
       "    }\n",
       "\n",
       "    .dataframe tbody tr th {\n",
       "        vertical-align: top;\n",
       "    }\n",
       "\n",
       "    .dataframe thead th {\n",
       "        text-align: right;\n",
       "    }\n",
       "</style>\n",
       "<table border=\"1\" class=\"dataframe\">\n",
       "  <thead>\n",
       "    <tr style=\"text-align: right;\">\n",
       "      <th></th>\n",
       "      <th>Nivel_educativo</th>\n",
       "      <th>Campo de estudio</th>\n",
       "      <th>Número_graduados_2019</th>\n",
       "      <th>Ingreso_medio_por_empleo</th>\n",
       "    </tr>\n",
       "  </thead>\n",
       "  <tbody>\n",
       "    <tr>\n",
       "      <th>0</th>\n",
       "      <td>Career, technical or professional training cer...</td>\n",
       "      <td>Total, field of study</td>\n",
       "      <td>35580</td>\n",
       "      <td>36800</td>\n",
       "    </tr>\n",
       "    <tr>\n",
       "      <th>1</th>\n",
       "      <td>Career, technical or professional training cer...</td>\n",
       "      <td>Education</td>\n",
       "      <td>1040</td>\n",
       "      <td>31100</td>\n",
       "    </tr>\n",
       "    <tr>\n",
       "      <th>2</th>\n",
       "      <td>Career, technical or professional training cer...</td>\n",
       "      <td>Visual and performing arts, and communications...</td>\n",
       "      <td>1220</td>\n",
       "      <td>22700</td>\n",
       "    </tr>\n",
       "    <tr>\n",
       "      <th>3</th>\n",
       "      <td>Career, technical or professional training cer...</td>\n",
       "      <td>Humanities</td>\n",
       "      <td>1760</td>\n",
       "      <td>24400</td>\n",
       "    </tr>\n",
       "    <tr>\n",
       "      <th>4</th>\n",
       "      <td>Career, technical or professional training cer...</td>\n",
       "      <td>Social and behavioural sciences and law</td>\n",
       "      <td>1970</td>\n",
       "      <td>37600</td>\n",
       "    </tr>\n",
       "  </tbody>\n",
       "</table>\n",
       "</div>"
      ],
      "text/plain": [
       "                                     Nivel_educativo  \\\n",
       "0  Career, technical or professional training cer...   \n",
       "1  Career, technical or professional training cer...   \n",
       "2  Career, technical or professional training cer...   \n",
       "3  Career, technical or professional training cer...   \n",
       "4  Career, technical or professional training cer...   \n",
       "\n",
       "                                    Campo de estudio  Número_graduados_2019  \\\n",
       "0                              Total, field of study                  35580   \n",
       "1                                          Education                   1040   \n",
       "2  Visual and performing arts, and communications...                   1220   \n",
       "3                                         Humanities                   1760   \n",
       "4            Social and behavioural sciences and law                   1970   \n",
       "\n",
       "   Ingreso_medio_por_empleo  \n",
       "0                     36800  \n",
       "1                     31100  \n",
       "2                     22700  \n",
       "3                     24400  \n",
       "4                     37600  "
      ]
     },
     "execution_count": 291,
     "metadata": {},
     "output_type": "execute_result"
    }
   ],
   "source": [
    "after_graduate.head(5)"
   ]
  },
  {
   "cell_type": "code",
   "execution_count": 296,
   "metadata": {},
   "outputs": [],
   "source": [
    "#Exportamos el archivo limpio para realizarle el EDA\n",
    "ruta_archivo = \"data/desempleo_Canada.csv\"  # Ruta completa al archivo CSV\n",
    "\n",
    "desempleo.to_csv(ruta_archivo, index=False)"
   ]
  },
  {
   "cell_type": "code",
   "execution_count": 293,
   "metadata": {},
   "outputs": [],
   "source": [
    "#Exportamos el archivo limpio para realizarle el EDA\n",
    "ruta_archivo = \"data/after_graduate_Canada.csv\"  # Ruta completa al archivo CSV\n",
    "\n",
    "after_graduate.to_csv(ruta_archivo, index=False)"
   ]
  },
  {
   "cell_type": "code",
   "execution_count": null,
   "metadata": {},
   "outputs": [],
   "source": []
  }
 ],
 "metadata": {
  "kernelspec": {
   "display_name": "venv",
   "language": "python",
   "name": "python3"
  },
  "language_info": {
   "codemirror_mode": {
    "name": "ipython",
    "version": 3
   },
   "file_extension": ".py",
   "mimetype": "text/x-python",
   "name": "python",
   "nbconvert_exporter": "python",
   "pygments_lexer": "ipython3",
   "version": "3.11.4"
  },
  "orig_nbformat": 4
 },
 "nbformat": 4,
 "nbformat_minor": 2
}
